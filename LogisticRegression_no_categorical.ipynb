{
 "cells": [
  {
   "cell_type": "code",
   "execution_count": 1,
   "metadata": {},
   "outputs": [],
   "source": [
    "# Import libraries\n",
    "import numpy as np\n",
    "import pandas as pd\n",
    "from sklearn.model_selection import KFold, cross_val_score\n",
    "from sklearn.linear_model import LogisticRegression\n",
    "from sklearn.preprocessing import StandardScaler\n",
    "import matplotlib.pyplot as plt\n",
    "import datetime\n",
    "import time\n",
    "\n",
    "%matplotlib inline"
   ]
  },
  {
   "cell_type": "code",
   "execution_count": 2,
   "metadata": {},
   "outputs": [],
   "source": [
    "# Load dataset\n",
    "data_train = pd.read_csv('datasets/CleanDataTrain.csv')"
   ]
  },
  {
   "cell_type": "code",
   "execution_count": 3,
   "metadata": {},
   "outputs": [],
   "source": [
    "# Drop unnecessary features\n",
    "data_train.drop(['lobby_type'], axis=1, inplace=True)\n",
    "for n in range(1, 6):\n",
    "        del data_train['r{}_hero'.format(n)]\n",
    "        del data_train['d{}_hero'.format(n)]"
   ]
  },
  {
   "cell_type": "code",
   "execution_count": 4,
   "metadata": {},
   "outputs": [],
   "source": [
    "# Segregate features and labels into separate variables\n",
    "X,y = data_train.iloc[:,0:92] , data_train.iloc[:,92]"
   ]
  },
  {
   "cell_type": "code",
   "execution_count": 5,
   "metadata": {},
   "outputs": [
    {
     "name": "stderr",
     "output_type": "stream",
     "text": [
      "/anaconda3/lib/python3.7/site-packages/sklearn/preprocessing/data.py:625: DataConversionWarning: Data with input dtype int64, float64 were all converted to float64 by StandardScaler.\n",
      "  return self.partial_fit(X, y)\n",
      "/anaconda3/lib/python3.7/site-packages/sklearn/base.py:462: DataConversionWarning: Data with input dtype int64, float64 were all converted to float64 by StandardScaler.\n",
      "  return self.fit(X, **fit_params).transform(X)\n"
     ]
    }
   ],
   "source": [
    "scaler = StandardScaler()\n",
    "rescaledX = scaler.fit_transform(X)"
   ]
  },
  {
   "cell_type": "code",
   "execution_count": 6,
   "metadata": {},
   "outputs": [],
   "source": [
    "kf = KFold(n_splits=5, shuffle=True, random_state=42)"
   ]
  },
  {
   "cell_type": "code",
   "execution_count": 7,
   "metadata": {},
   "outputs": [
    {
     "name": "stdout",
     "output_type": "stream",
     "text": [
      "0.1\n",
      "Time elapsed: 0:00:05.713853\n",
      "[0.71473702 0.71630672 0.71626466 0.71727287 0.71859946]\n",
      "0.01\n",
      "Time elapsed: 0:00:05.211980\n",
      "[0.7147459  0.7163128  0.71633048 0.71724976 0.71864826]\n",
      "0.001\n",
      "Time elapsed: 0:00:03.981234\n",
      "[0.71452753 0.71590583 0.7163856  0.71691469 0.71860973]\n",
      "0.0001\n",
      "Time elapsed: 0:00:02.529115\n",
      "[0.70947131 0.71054883 0.71177751 0.71169704 0.71359801]\n"
     ]
    }
   ],
   "source": [
    "result = []\n",
    "tol = [0.1, 0.01, 0.001, 0.0001]\n",
    "for i in tol:\n",
    "    print(i)\n",
    "    model = LogisticRegression(C=i, random_state=42)\n",
    "    start_time = datetime.datetime.now()\n",
    "    model_score = cross_val_score(model, rescaledX, y, cv=kf, scoring='roc_auc', n_jobs=-1)\n",
    "    print('Time elapsed:', datetime.datetime.now() - start_time)\n",
    "    print(model_score)\n",
    "    result.append(np.mean(model_score))"
   ]
  },
  {
   "cell_type": "code",
   "execution_count": 8,
   "metadata": {},
   "outputs": [
    {
     "data": {
      "image/png": "[encoded data removed]",
      "text/plain": [
       "<Figure size 432x288 with 1 Axes>"
      ]
     },
     "metadata": {
      "needs_background": "light"
     },
     "output_type": "display_data"
    }
   ],
   "source": [
    "plt.plot(tol, result)\n",
    "plt.xlabel('n_estimators')\n",
    "plt.ylabel('roc_auc')\n",
    "plt.show()"
   ]
  },
  {
   "cell_type": "code",
   "execution_count": 9,
   "metadata": {},
   "outputs": [
    {
     "name": "stdout",
     "output_type": "stream",
     "text": [
      "0.01 0.72\n"
     ]
    }
   ],
   "source": [
    "max_score = \" \".join([repr(tol[result.index(max(result))]), repr(round(max(result), 2))])\n",
    "print(max_score)"
   ]
  },
  {
   "cell_type": "markdown",
   "metadata": {},
   "source": [
    "1. Как влияет на качество логистической регрессии удаление категориальных признаков (укажите новое значение метрики качества)? Чем вы можете объяснить это изменение?\n",
    "\n",
    "\n",
    "Качество сохранилось, 0,72, потому что ранее модель распознала, что удаленные сейчас категориальные признаки не влияли на предсказание и являлись шумами."
   ]
  }
 ],
 "metadata": {
  "kernelspec": {
   "display_name": "Python 3",
   "language": "python",
   "name": "python3"
  },
  "language_info": {
   "codemirror_mode": {
    "name": "ipython",
    "version": 3
   },
   "file_extension": ".py",
   "mimetype": "text/x-python",
   "name": "python",
   "nbconvert_exporter": "python",
   "pygments_lexer": "ipython3",
   "version": "3.7.1"
  }
 },
 "nbformat": 4,
 "nbformat_minor": 2
}
