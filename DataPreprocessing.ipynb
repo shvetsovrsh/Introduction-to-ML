{
 "cells": [
  {
   "cell_type": "code",
   "execution_count": 1,
   "metadata": {},
   "outputs": [],
   "source": [
    "# Import pandas\n",
    "import pandas as pd\n",
    "# Import numpy\n",
    "import numpy as np"
   ]
  },
  {
   "cell_type": "code",
   "execution_count": 2,
   "metadata": {},
   "outputs": [],
   "source": [
    "# Load dataset\n",
    "data_train = pd.read_csv('data/features.csv', index_col='match_id')\n",
    "data_test = pd.read_csv('data/features_test.csv', index_col='match_id')"
   ]
  },
  {
   "cell_type": "code",
   "execution_count": 3,
   "metadata": {},
   "outputs": [],
   "source": [
    "# Drop unnecessary features\n",
    "data_train.drop(['duration', 'tower_status_radiant', 'tower_status_dire', \n",
    "                 'barracks_status_radiant', 'barracks_status_dire'], axis=1, inplace=True)"
   ]
  },
  {
   "cell_type": "code",
   "execution_count": 4,
   "metadata": {},
   "outputs": [
    {
     "data": {
      "text/plain": [
       "start_time                         0\n",
       "lobby_type                         0\n",
       "r1_hero                            0\n",
       "r1_level                           0\n",
       "r1_xp                              0\n",
       "r1_gold                            0\n",
       "r1_lh                              0\n",
       "r1_kills                           0\n",
       "r1_deaths                          0\n",
       "r1_items                           0\n",
       "r2_hero                            0\n",
       "r2_level                           0\n",
       "r2_xp                              0\n",
       "r2_gold                            0\n",
       "r2_lh                              0\n",
       "r2_kills                           0\n",
       "r2_deaths                          0\n",
       "r2_items                           0\n",
       "r3_hero                            0\n",
       "r3_level                           0\n",
       "r3_xp                              0\n",
       "r3_gold                            0\n",
       "r3_lh                              0\n",
       "r3_kills                           0\n",
       "r3_deaths                          0\n",
       "r3_items                           0\n",
       "r4_hero                            0\n",
       "r4_level                           0\n",
       "r4_xp                              0\n",
       "r4_gold                            0\n",
       "                               ...  \n",
       "d4_items                           0\n",
       "d5_hero                            0\n",
       "d5_level                           0\n",
       "d5_xp                              0\n",
       "d5_gold                            0\n",
       "d5_lh                              0\n",
       "d5_kills                           0\n",
       "d5_deaths                          0\n",
       "d5_items                           0\n",
       "first_blood_time               19553\n",
       "first_blood_team               19553\n",
       "first_blood_player1            19553\n",
       "first_blood_player2            43987\n",
       "radiant_bottle_time            15691\n",
       "radiant_courier_time             692\n",
       "radiant_flying_courier_time    27479\n",
       "radiant_tpscroll_count             0\n",
       "radiant_boots_count                0\n",
       "radiant_ward_observer_count        0\n",
       "radiant_ward_sentry_count          0\n",
       "radiant_first_ward_time         1836\n",
       "dire_bottle_time               16143\n",
       "dire_courier_time                676\n",
       "dire_flying_courier_time       26098\n",
       "dire_tpscroll_count                0\n",
       "dire_boots_count                   0\n",
       "dire_ward_observer_count           0\n",
       "dire_ward_sentry_count             0\n",
       "dire_first_ward_time            1826\n",
       "radiant_win                        0\n",
       "Length: 103, dtype: int64"
      ]
     },
     "execution_count": 4,
     "metadata": {},
     "output_type": "execute_result"
    }
   ],
   "source": [
    "# Count the number of ' 's in the dataset\n",
    "data_train.isnull().sum()"
   ]
  },
  {
   "cell_type": "code",
   "execution_count": 5,
   "metadata": {},
   "outputs": [
    {
     "data": {
      "text/plain": [
       "start_time                        0\n",
       "lobby_type                        0\n",
       "r1_hero                           0\n",
       "r1_level                          0\n",
       "r1_xp                             0\n",
       "r1_gold                           0\n",
       "r1_lh                             0\n",
       "r1_kills                          0\n",
       "r1_deaths                         0\n",
       "r1_items                          0\n",
       "r2_hero                           0\n",
       "r2_level                          0\n",
       "r2_xp                             0\n",
       "r2_gold                           0\n",
       "r2_lh                             0\n",
       "r2_kills                          0\n",
       "r2_deaths                         0\n",
       "r2_items                          0\n",
       "r3_hero                           0\n",
       "r3_level                          0\n",
       "r3_xp                             0\n",
       "r3_gold                           0\n",
       "r3_lh                             0\n",
       "r3_kills                          0\n",
       "r3_deaths                         0\n",
       "r3_items                          0\n",
       "r4_hero                           0\n",
       "r4_level                          0\n",
       "r4_xp                             0\n",
       "r4_gold                           0\n",
       "                               ... \n",
       "d4_deaths                         0\n",
       "d4_items                          0\n",
       "d5_hero                           0\n",
       "d5_level                          0\n",
       "d5_xp                             0\n",
       "d5_gold                           0\n",
       "d5_lh                             0\n",
       "d5_kills                          0\n",
       "d5_deaths                         0\n",
       "d5_items                          0\n",
       "first_blood_time               3552\n",
       "first_blood_team               3552\n",
       "first_blood_player1            3552\n",
       "first_blood_player2            7766\n",
       "radiant_bottle_time            2895\n",
       "radiant_courier_time            127\n",
       "radiant_flying_courier_time    4885\n",
       "radiant_tpscroll_count            0\n",
       "radiant_boots_count               0\n",
       "radiant_ward_observer_count       0\n",
       "radiant_ward_sentry_count         0\n",
       "radiant_first_ward_time         330\n",
       "dire_bottle_time               2842\n",
       "dire_courier_time               130\n",
       "dire_flying_courier_time       4524\n",
       "dire_tpscroll_count               0\n",
       "dire_boots_count                  0\n",
       "dire_ward_observer_count          0\n",
       "dire_ward_sentry_count            0\n",
       "dire_first_ward_time            263\n",
       "Length: 102, dtype: int64"
      ]
     },
     "execution_count": 5,
     "metadata": {},
     "output_type": "execute_result"
    }
   ],
   "source": [
    "data_test.isnull().sum()"
   ]
  },
  {
   "cell_type": "markdown",
   "metadata": {},
   "source": [
    "1. Какие признаки имеют пропуски среди своих значений? \n",
    "\n",
    "first_blood_time               игровое время первой крови\n",
    "first_blood_team               команда, совершившая первую кровь (0 — Radiant, 1 — Dire)\n",
    "first_blood_player1            игрок, причастный к событию\n",
    "first_blood_player2            второй игрок, причастный к событию\n",
    "radiant_bottle_time            время первого приобретения командой предмета \"bottle\"\n",
    "radiant_courier_time           время приобретения предмета \"courier\"  \n",
    "radiant_flying_courier_time    время приобретения предмета \"flying_courier\"\n",
    "radiant_first_ward_time        время установки командой первого \"наблюдателя\" \n",
    "dire_bottle_time               время первого приобретения командой предмета \"bottle\"\n",
    "dire_courier_time              время приобретения предмета \"courier\"  \n",
    "dire_flying_courier_time       время приобретения предмета \"flying_courier\"\n",
    "dire_first_ward_time           время установки командой первого \"наблюдателя\" \n",
    "\n",
    "1. Что могут означать пропуски в этих признаках (ответьте на этот вопрос для двух любых признаков)?\n",
    "first_blood_time               в первые 5 минут игры не было первой крови\n",
    "first_blood_team               в первые 5 минут игры ни одна команда не совершила первую кровь\n",
    "\n",
    "2. Как называется столбец, содержащий целевую переменную?\n",
    "'radiant_win'"
   ]
  },
  {
   "cell_type": "code",
   "execution_count": 6,
   "metadata": {},
   "outputs": [],
   "source": [
    "# Replace the ' 's with NaN\n",
    "data_train = data_train.replace('', np.NaN)\n",
    "data_test = data_test.replace('', np.NaN)"
   ]
  },
  {
   "cell_type": "code",
   "execution_count": 7,
   "metadata": {},
   "outputs": [],
   "source": [
    "# Impute the missing values with 0\n",
    "data_train.fillna(0, inplace=True)\n",
    "data_test.fillna(0, inplace=True)"
   ]
  },
  {
   "cell_type": "code",
   "execution_count": 8,
   "metadata": {},
   "outputs": [],
   "source": [
    "# Save to csv file\n",
    "data_train.to_csv('datasets/CleanDataTrain.csv')\n",
    "data_test.to_csv('datasets/CleanDataTest.csv')"
   ]
  }
 ],
 "metadata": {
  "kernelspec": {
   "display_name": "Python 3",
   "language": "python",
   "name": "python3"
  },
  "language_info": {
   "codemirror_mode": {
    "name": "ipython",
    "version": 3
   },
   "file_extension": ".py",
   "mimetype": "text/x-python",
   "name": "python",
   "nbconvert_exporter": "python",
   "pygments_lexer": "ipython3",
   "version": "3.7.1"
  }
 },
 "nbformat": 4,
 "nbformat_minor": 2
}
